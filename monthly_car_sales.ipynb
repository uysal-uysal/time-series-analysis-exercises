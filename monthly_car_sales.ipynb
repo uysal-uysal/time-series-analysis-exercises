{
  "nbformat": 4,
  "nbformat_minor": 0,
  "metadata": {
    "colab": {
      "name": "monthly-car-sales.ipynb",
      "provenance": [],
      "collapsed_sections": []
    },
    "kernelspec": {
      "name": "python3",
      "display_name": "Python 3"
    },
    "language_info": {
      "name": "python"
    }
  },
  "cells": [
    {
      "cell_type": "code",
      "execution_count": 1,
      "metadata": {
        "id": "d2jiUVnawnt4"
      },
      "outputs": [],
      "source": [
        "import pandas as pd"
      ]
    },
    {
      "cell_type": "code",
      "source": [
        "path = 'https://raw.githubusercontent.com/jbrownlee/Datasets/master/monthly-car-sales.csv'\n",
        "\n",
        "df = pd.read_csv(path, header=0)"
      ],
      "metadata": {
        "id": "_IE5vrR9ykPP"
      },
      "execution_count": 6,
      "outputs": []
    },
    {
      "cell_type": "code",
      "source": [
        "df.head()"
      ],
      "metadata": {
        "colab": {
          "base_uri": "https://localhost:8080/",
          "height": 206
        },
        "id": "Cwv31TzSytlk",
        "outputId": "0cb7db15-f5b7-403b-ab4a-842bf8eda1a5"
      },
      "execution_count": 7,
      "outputs": [
        {
          "output_type": "execute_result",
          "data": {
            "text/plain": [
              "     Month  Sales\n",
              "0  1960-01   6550\n",
              "1  1960-02   8728\n",
              "2  1960-03  12026\n",
              "3  1960-04  14395\n",
              "4  1960-05  14587"
            ],
            "text/html": [
              "\n",
              "  <div id=\"df-ae3aa8c4-80f0-4b64-9a78-49d928064031\">\n",
              "    <div class=\"colab-df-container\">\n",
              "      <div>\n",
              "<style scoped>\n",
              "    .dataframe tbody tr th:only-of-type {\n",
              "        vertical-align: middle;\n",
              "    }\n",
              "\n",
              "    .dataframe tbody tr th {\n",
              "        vertical-align: top;\n",
              "    }\n",
              "\n",
              "    .dataframe thead th {\n",
              "        text-align: right;\n",
              "    }\n",
              "</style>\n",
              "<table border=\"1\" class=\"dataframe\">\n",
              "  <thead>\n",
              "    <tr style=\"text-align: right;\">\n",
              "      <th></th>\n",
              "      <th>Month</th>\n",
              "      <th>Sales</th>\n",
              "    </tr>\n",
              "  </thead>\n",
              "  <tbody>\n",
              "    <tr>\n",
              "      <th>0</th>\n",
              "      <td>1960-01</td>\n",
              "      <td>6550</td>\n",
              "    </tr>\n",
              "    <tr>\n",
              "      <th>1</th>\n",
              "      <td>1960-02</td>\n",
              "      <td>8728</td>\n",
              "    </tr>\n",
              "    <tr>\n",
              "      <th>2</th>\n",
              "      <td>1960-03</td>\n",
              "      <td>12026</td>\n",
              "    </tr>\n",
              "    <tr>\n",
              "      <th>3</th>\n",
              "      <td>1960-04</td>\n",
              "      <td>14395</td>\n",
              "    </tr>\n",
              "    <tr>\n",
              "      <th>4</th>\n",
              "      <td>1960-05</td>\n",
              "      <td>14587</td>\n",
              "    </tr>\n",
              "  </tbody>\n",
              "</table>\n",
              "</div>\n",
              "      <button class=\"colab-df-convert\" onclick=\"convertToInteractive('df-ae3aa8c4-80f0-4b64-9a78-49d928064031')\"\n",
              "              title=\"Convert this dataframe to an interactive table.\"\n",
              "              style=\"display:none;\">\n",
              "        \n",
              "  <svg xmlns=\"http://www.w3.org/2000/svg\" height=\"24px\"viewBox=\"0 0 24 24\"\n",
              "       width=\"24px\">\n",
              "    <path d=\"M0 0h24v24H0V0z\" fill=\"none\"/>\n",
              "    <path d=\"M18.56 5.44l.94 2.06.94-2.06 2.06-.94-2.06-.94-.94-2.06-.94 2.06-2.06.94zm-11 1L8.5 8.5l.94-2.06 2.06-.94-2.06-.94L8.5 2.5l-.94 2.06-2.06.94zm10 10l.94 2.06.94-2.06 2.06-.94-2.06-.94-.94-2.06-.94 2.06-2.06.94z\"/><path d=\"M17.41 7.96l-1.37-1.37c-.4-.4-.92-.59-1.43-.59-.52 0-1.04.2-1.43.59L10.3 9.45l-7.72 7.72c-.78.78-.78 2.05 0 2.83L4 21.41c.39.39.9.59 1.41.59.51 0 1.02-.2 1.41-.59l7.78-7.78 2.81-2.81c.8-.78.8-2.07 0-2.86zM5.41 20L4 18.59l7.72-7.72 1.47 1.35L5.41 20z\"/>\n",
              "  </svg>\n",
              "      </button>\n",
              "      \n",
              "  <style>\n",
              "    .colab-df-container {\n",
              "      display:flex;\n",
              "      flex-wrap:wrap;\n",
              "      gap: 12px;\n",
              "    }\n",
              "\n",
              "    .colab-df-convert {\n",
              "      background-color: #E8F0FE;\n",
              "      border: none;\n",
              "      border-radius: 50%;\n",
              "      cursor: pointer;\n",
              "      display: none;\n",
              "      fill: #1967D2;\n",
              "      height: 32px;\n",
              "      padding: 0 0 0 0;\n",
              "      width: 32px;\n",
              "    }\n",
              "\n",
              "    .colab-df-convert:hover {\n",
              "      background-color: #E2EBFA;\n",
              "      box-shadow: 0px 1px 2px rgba(60, 64, 67, 0.3), 0px 1px 3px 1px rgba(60, 64, 67, 0.15);\n",
              "      fill: #174EA6;\n",
              "    }\n",
              "\n",
              "    [theme=dark] .colab-df-convert {\n",
              "      background-color: #3B4455;\n",
              "      fill: #D2E3FC;\n",
              "    }\n",
              "\n",
              "    [theme=dark] .colab-df-convert:hover {\n",
              "      background-color: #434B5C;\n",
              "      box-shadow: 0px 1px 3px 1px rgba(0, 0, 0, 0.15);\n",
              "      filter: drop-shadow(0px 1px 2px rgba(0, 0, 0, 0.3));\n",
              "      fill: #FFFFFF;\n",
              "    }\n",
              "  </style>\n",
              "\n",
              "      <script>\n",
              "        const buttonEl =\n",
              "          document.querySelector('#df-ae3aa8c4-80f0-4b64-9a78-49d928064031 button.colab-df-convert');\n",
              "        buttonEl.style.display =\n",
              "          google.colab.kernel.accessAllowed ? 'block' : 'none';\n",
              "\n",
              "        async function convertToInteractive(key) {\n",
              "          const element = document.querySelector('#df-ae3aa8c4-80f0-4b64-9a78-49d928064031');\n",
              "          const dataTable =\n",
              "            await google.colab.kernel.invokeFunction('convertToInteractive',\n",
              "                                                     [key], {});\n",
              "          if (!dataTable) return;\n",
              "\n",
              "          const docLinkHtml = 'Like what you see? Visit the ' +\n",
              "            '<a target=\"_blank\" href=https://colab.research.google.com/notebooks/data_table.ipynb>data table notebook</a>'\n",
              "            + ' to learn more about interactive tables.';\n",
              "          element.innerHTML = '';\n",
              "          dataTable['output_type'] = 'display_data';\n",
              "          await google.colab.output.renderOutput(dataTable, element);\n",
              "          const docLink = document.createElement('div');\n",
              "          docLink.innerHTML = docLinkHtml;\n",
              "          element.appendChild(docLink);\n",
              "        }\n",
              "      </script>\n",
              "    </div>\n",
              "  </div>\n",
              "  "
            ]
          },
          "metadata": {},
          "execution_count": 7
        }
      ]
    },
    {
      "cell_type": "code",
      "source": [
        "df.shape"
      ],
      "metadata": {
        "colab": {
          "base_uri": "https://localhost:8080/"
        },
        "id": "C4l5P76dzdE0",
        "outputId": "b6b997eb-cbd3-40ff-b0ea-8f6c362e5d93"
      },
      "execution_count": 9,
      "outputs": [
        {
          "output_type": "execute_result",
          "data": {
            "text/plain": [
              "(108, 2)"
            ]
          },
          "metadata": {},
          "execution_count": 9
        }
      ]
    },
    {
      "cell_type": "code",
      "source": [
        "#visualize data\n",
        "\n",
        "from matplotlib import pyplot\n",
        "\n",
        "df.plot()\n",
        "pyplot.show()"
      ],
      "metadata": {
        "colab": {
          "base_uri": "https://localhost:8080/",
          "height": 265
        },
        "id": "dumQaUowzlPV",
        "outputId": "7d26ba8e-d157-4b1d-ca4d-ada108e10a83"
      },
      "execution_count": 10,
      "outputs": [
        {
          "output_type": "display_data",
          "data": {
            "text/plain": [
              "<Figure size 432x288 with 1 Axes>"
            ],
            "image/png": "[encoded data removed]"
          },
          "metadata": {
            "needs_background": "light"
          }
        }
      ]
    },
    {
      "cell_type": "code",
      "source": [
        "df.dtypes\n",
        "#prophet-> ds and y"
      ],
      "metadata": {
        "colab": {
          "base_uri": "https://localhost:8080/"
        },
        "id": "7Xsf-JedzlK8",
        "outputId": "9976ce36-3dc0-4cf4-a717-380bd102097a"
      },
      "execution_count": 11,
      "outputs": [
        {
          "output_type": "execute_result",
          "data": {
            "text/plain": [
              "Month    object\n",
              "Sales     int64\n",
              "dtype: object"
            ]
          },
          "metadata": {},
          "execution_count": 11
        }
      ]
    },
    {
      "cell_type": "code",
      "source": [
        "df.columns = ['ds', 'y']\n",
        "\n",
        "df['ds'] = pd.to_datetime(df['ds'])"
      ],
      "metadata": {
        "id": "9fJwqR040E0s"
      },
      "execution_count": 15,
      "outputs": []
    },
    {
      "cell_type": "code",
      "source": [
        "df.dtypes"
      ],
      "metadata": {
        "colab": {
          "base_uri": "https://localhost:8080/"
        },
        "id": "Q31QTWrR0cVr",
        "outputId": "69b4d719-2d93-48d2-f521-c5033fb72fde"
      },
      "execution_count": 16,
      "outputs": [
        {
          "output_type": "execute_result",
          "data": {
            "text/plain": [
              "ds    datetime64[ns]\n",
              "y              int64\n",
              "dtype: object"
            ]
          },
          "metadata": {},
          "execution_count": 16
        }
      ]
    },
    {
      "cell_type": "code",
      "source": [
        "!pip install pystan~=2.14\n",
        "!pip install fbprophet"
      ],
      "metadata": {
        "colab": {
          "base_uri": "https://localhost:8080/"
        },
        "id": "_mZiYzdl1ZQc",
        "outputId": "5d8670ef-033e-4503-a0e7-dff69f663027"
      },
      "execution_count": 21,
      "outputs": [
        {
          "output_type": "stream",
          "name": "stdout",
          "text": [
            "Looking in indexes: https://pypi.org/simple, https://us-python.pkg.dev/colab-wheels/public/simple/\n",
            "Collecting pystan~=2.14\n",
            "  Downloading pystan-2.19.1.1-cp37-cp37m-manylinux1_x86_64.whl (67.3 MB)\n",
            "\u001b[K     |████████████████████████████████| 67.3 MB 80 kB/s \n",
            "\u001b[?25hRequirement already satisfied: numpy>=1.7 in /usr/local/lib/python3.7/dist-packages (from pystan~=2.14) (1.21.6)\n",
            "Requirement already satisfied: Cython!=0.25.1,>=0.22 in /usr/local/lib/python3.7/dist-packages (from pystan~=2.14) (0.29.32)\n",
            "Installing collected packages: pystan\n",
            "  Attempting uninstall: pystan\n",
            "    Found existing installation: pystan 3.3.0\n",
            "    Uninstalling pystan-3.3.0:\n",
            "      Successfully uninstalled pystan-3.3.0\n",
            "Successfully installed pystan-2.19.1.1\n",
            "Looking in indexes: https://pypi.org/simple, https://us-python.pkg.dev/colab-wheels/public/simple/\n",
            "Collecting fbprophet\n",
            "  Using cached fbprophet-0.7.1.tar.gz (64 kB)\n",
            "Requirement already satisfied: Cython>=0.22 in /usr/local/lib/python3.7/dist-packages (from fbprophet) (0.29.32)\n",
            "Requirement already satisfied: cmdstanpy==0.9.5 in /usr/local/lib/python3.7/dist-packages (from fbprophet) (0.9.5)\n",
            "Requirement already satisfied: pystan>=2.14 in /usr/local/lib/python3.7/dist-packages (from fbprophet) (2.19.1.1)\n",
            "Requirement already satisfied: numpy>=1.15.4 in /usr/local/lib/python3.7/dist-packages (from fbprophet) (1.21.6)\n",
            "Requirement already satisfied: pandas>=1.0.4 in /usr/local/lib/python3.7/dist-packages (from fbprophet) (1.3.5)\n",
            "Requirement already satisfied: matplotlib>=2.0.0 in /usr/local/lib/python3.7/dist-packages (from fbprophet) (3.2.2)\n",
            "Requirement already satisfied: LunarCalendar>=0.0.9 in /usr/local/lib/python3.7/dist-packages (from fbprophet) (0.0.9)\n",
            "Requirement already satisfied: convertdate>=2.1.2 in /usr/local/lib/python3.7/dist-packages (from fbprophet) (2.4.0)\n",
            "Requirement already satisfied: holidays>=0.10.2 in /usr/local/lib/python3.7/dist-packages (from fbprophet) (0.14.2)\n",
            "Requirement already satisfied: setuptools-git>=1.2 in /usr/local/lib/python3.7/dist-packages (from fbprophet) (1.2)\n",
            "Requirement already satisfied: python-dateutil>=2.8.0 in /usr/local/lib/python3.7/dist-packages (from fbprophet) (2.8.2)\n",
            "Requirement already satisfied: tqdm>=4.36.1 in /usr/local/lib/python3.7/dist-packages (from fbprophet) (4.64.0)\n",
            "Requirement already satisfied: pymeeus<=1,>=0.3.13 in /usr/local/lib/python3.7/dist-packages (from convertdate>=2.1.2->fbprophet) (0.5.11)\n",
            "Requirement already satisfied: hijri-converter in /usr/local/lib/python3.7/dist-packages (from holidays>=0.10.2->fbprophet) (2.2.4)\n",
            "Requirement already satisfied: korean-lunar-calendar in /usr/local/lib/python3.7/dist-packages (from holidays>=0.10.2->fbprophet) (0.2.1)\n",
            "Requirement already satisfied: pytz in /usr/local/lib/python3.7/dist-packages (from LunarCalendar>=0.0.9->fbprophet) (2022.1)\n",
            "Requirement already satisfied: ephem>=3.7.5.3 in /usr/local/lib/python3.7/dist-packages (from LunarCalendar>=0.0.9->fbprophet) (4.1.3)\n",
            "Requirement already satisfied: pyparsing!=2.0.4,!=2.1.2,!=2.1.6,>=2.0.1 in /usr/local/lib/python3.7/dist-packages (from matplotlib>=2.0.0->fbprophet) (3.0.9)\n",
            "Requirement already satisfied: kiwisolver>=1.0.1 in /usr/local/lib/python3.7/dist-packages (from matplotlib>=2.0.0->fbprophet) (1.4.4)\n",
            "Requirement already satisfied: cycler>=0.10 in /usr/local/lib/python3.7/dist-packages (from matplotlib>=2.0.0->fbprophet) (0.11.0)\n",
            "Requirement already satisfied: typing-extensions in /usr/local/lib/python3.7/dist-packages (from kiwisolver>=1.0.1->matplotlib>=2.0.0->fbprophet) (4.1.1)\n",
            "Requirement already satisfied: six>=1.5 in /usr/local/lib/python3.7/dist-packages (from python-dateutil>=2.8.0->fbprophet) (1.15.0)\n",
            "Building wheels for collected packages: fbprophet\n",
            "  Building wheel for fbprophet (setup.py) ... \u001b[?25l\u001b[?25hdone\n",
            "  Created wheel for fbprophet: filename=fbprophet-0.7.1-py3-none-any.whl size=6638875 sha256=ee37e10d746a6ee92658f181fe39ff822b9b80a781085b5ff69b23194ca7524a\n",
            "  Stored in directory: /root/.cache/pip/wheels/cd/a1/12/db63ff624de492fe6cccf676091a0860fdde2ffde4bc3280e2\n",
            "Successfully built fbprophet\n",
            "Installing collected packages: fbprophet\n",
            "Successfully installed fbprophet-0.7.1\n"
          ]
        }
      ]
    },
    {
      "cell_type": "code",
      "source": [
        "#create the model\n",
        "\n",
        "from fbprophet import Prophet\n",
        "\n",
        "model = Prophet()\n",
        "\n",
        "model.fit(df)"
      ],
      "metadata": {
        "colab": {
          "base_uri": "https://localhost:8080/"
        },
        "id": "6TZfNlTz0e7N",
        "outputId": "1a35c186-1859-4fc2-c1bb-811a466944fc"
      },
      "execution_count": 22,
      "outputs": [
        {
          "output_type": "stream",
          "name": "stderr",
          "text": [
            "INFO:fbprophet:Disabling weekly seasonality. Run prophet with weekly_seasonality=True to override this.\n",
            "INFO:fbprophet:Disabling daily seasonality. Run prophet with daily_seasonality=True to override this.\n"
          ]
        },
        {
          "output_type": "execute_result",
          "data": {
            "text/plain": [
              "<fbprophet.forecaster.Prophet at 0x7f567de493d0>"
            ]
          },
          "metadata": {},
          "execution_count": 22
        }
      ]
    },
    {
      "cell_type": "code",
      "source": [
        "past = list()\n",
        "\n",
        "for i in range(1, 13):\n",
        "  date = '1968-%02d' % i \n",
        "  past.append([date])\n",
        "\n",
        "\n",
        "past = pd.DataFrame(past)\n",
        "past.columns = ['ds']\n",
        "past['ds'] = pd.to_datetime(past['ds'])\n",
        "forecast = model.predict(past)\n"
      ],
      "metadata": {
        "id": "3LGs3nJB2Vb3"
      },
      "execution_count": 33,
      "outputs": []
    },
    {
      "cell_type": "code",
      "source": [
        "forecast"
      ],
      "metadata": {
        "colab": {
          "base_uri": "https://localhost:8080/",
          "height": 490
        },
        "id": "-dpap-UH3JX8",
        "outputId": "cd29c47b-f0a9-4ea4-a2de-a47be8270558"
      },
      "execution_count": 34,
      "outputs": [
        {
          "output_type": "execute_result",
          "data": {
            "text/plain": [
              "           ds         trend    yhat_lower    yhat_upper   trend_lower  \\\n",
              "0  1968-01-01  17795.101137  12722.316435  15778.286368  17795.101137   \n",
              "1  1968-02-01  17850.076787  13393.352625  16562.472655  17850.076787   \n",
              "2  1968-03-01  17901.505622  19261.479062  22431.836709  17901.505622   \n",
              "3  1968-04-01  17956.481273  21236.591654  24436.621655  17956.481273   \n",
              "4  1968-05-01  18009.683516  22608.878067  25656.977992  18009.683516   \n",
              "5  1968-06-01  18064.659167  19544.351309  22673.186803  18064.659167   \n",
              "6  1968-07-01  18117.861409  16047.000752  19141.859427  18117.861409   \n",
              "7  1968-08-01  18172.837060  13829.376759  16815.172935  18172.837060   \n",
              "8  1968-09-01  18227.812711  12071.908235  15407.869417  18227.812711   \n",
              "9  1968-10-01  18281.014954  16560.545078  19671.225934  18281.014954   \n",
              "10 1968-11-01  18335.990605  15799.135837  19004.676442  18335.990605   \n",
              "11 1968-12-01  18389.192847  14126.205345  17327.241221  18389.192847   \n",
              "\n",
              "     trend_upper  additive_terms  additive_terms_lower  additive_terms_upper  \\\n",
              "0   17795.101137    -3460.363368          -3460.363368          -3460.363368   \n",
              "1   17850.076787    -2944.120823          -2944.120823          -2944.120823   \n",
              "2   17901.505622     2940.644880           2940.644880           2940.644880   \n",
              "3   17956.481273     4913.613942           4913.613942           4913.613942   \n",
              "4   18009.683516     6166.527646           6166.527646           6166.527646   \n",
              "5   18064.659167     2993.020023           2993.020023           2993.020023   \n",
              "6   18117.861409     -532.371981           -532.371981           -532.371981   \n",
              "7   18172.837060    -2883.575173          -2883.575173          -2883.575173   \n",
              "8   18227.812711    -4506.374429          -4506.374429          -4506.374429   \n",
              "9   18281.014954     -147.104077           -147.104077           -147.104077   \n",
              "10  18335.990605     -904.230785           -904.230785           -904.230785   \n",
              "11  18389.192847    -2733.905566          -2733.905566          -2733.905566   \n",
              "\n",
              "         yearly  yearly_lower  yearly_upper  multiplicative_terms  \\\n",
              "0  -3460.363368  -3460.363368  -3460.363368                   0.0   \n",
              "1  -2944.120823  -2944.120823  -2944.120823                   0.0   \n",
              "2   2940.644880   2940.644880   2940.644880                   0.0   \n",
              "3   4913.613942   4913.613942   4913.613942                   0.0   \n",
              "4   6166.527646   6166.527646   6166.527646                   0.0   \n",
              "5   2993.020023   2993.020023   2993.020023                   0.0   \n",
              "6   -532.371981   -532.371981   -532.371981                   0.0   \n",
              "7  -2883.575173  -2883.575173  -2883.575173                   0.0   \n",
              "8  -4506.374429  -4506.374429  -4506.374429                   0.0   \n",
              "9   -147.104077   -147.104077   -147.104077                   0.0   \n",
              "10  -904.230785   -904.230785   -904.230785                   0.0   \n",
              "11 -2733.905566  -2733.905566  -2733.905566                   0.0   \n",
              "\n",
              "    multiplicative_terms_lower  multiplicative_terms_upper          yhat  \n",
              "0                          0.0                         0.0  14334.737769  \n",
              "1                          0.0                         0.0  14905.955964  \n",
              "2                          0.0                         0.0  20842.150502  \n",
              "3                          0.0                         0.0  22870.095215  \n",
              "4                          0.0                         0.0  24176.211162  \n",
              "5                          0.0                         0.0  21057.679190  \n",
              "6                          0.0                         0.0  17585.489428  \n",
              "7                          0.0                         0.0  15289.261887  \n",
              "8                          0.0                         0.0  13721.438281  \n",
              "9                          0.0                         0.0  18133.910877  \n",
              "10                         0.0                         0.0  17431.759820  \n",
              "11                         0.0                         0.0  15655.287282  "
            ],
            "text/html": [
              "\n",
              "  <div id=\"df-3a810fb4-a48f-43c6-9c42-e5d2683943a1\">\n",
              "    <div class=\"colab-df-container\">\n",
              "      <div>\n",
              "<style scoped>\n",
              "    .dataframe tbody tr th:only-of-type {\n",
              "        vertical-align: middle;\n",
              "    }\n",
              "\n",
              "    .dataframe tbody tr th {\n",
              "        vertical-align: top;\n",
              "    }\n",
              "\n",
              "    .dataframe thead th {\n",
              "        text-align: right;\n",
              "    }\n",
              "</style>\n",
              "<table border=\"1\" class=\"dataframe\">\n",
              "  <thead>\n",
              "    <tr style=\"text-align: right;\">\n",
              "      <th></th>\n",
              "      <th>ds</th>\n",
              "      <th>trend</th>\n",
              "      <th>yhat_lower</th>\n",
              "      <th>yhat_upper</th>\n",
              "      <th>trend_lower</th>\n",
              "      <th>trend_upper</th>\n",
              "      <th>additive_terms</th>\n",
              "      <th>additive_terms_lower</th>\n",
              "      <th>additive_terms_upper</th>\n",
              "      <th>yearly</th>\n",
              "      <th>yearly_lower</th>\n",
              "      <th>yearly_upper</th>\n",
              "      <th>multiplicative_terms</th>\n",
              "      <th>multiplicative_terms_lower</th>\n",
              "      <th>multiplicative_terms_upper</th>\n",
              "      <th>yhat</th>\n",
              "    </tr>\n",
              "  </thead>\n",
              "  <tbody>\n",
              "    <tr>\n",
              "      <th>0</th>\n",
              "      <td>1968-01-01</td>\n",
              "      <td>17795.101137</td>\n",
              "      <td>12722.316435</td>\n",
              "      <td>15778.286368</td>\n",
              "      <td>17795.101137</td>\n",
              "      <td>17795.101137</td>\n",
              "      <td>-3460.363368</td>\n",
              "      <td>-3460.363368</td>\n",
              "      <td>-3460.363368</td>\n",
              "      <td>-3460.363368</td>\n",
              "      <td>-3460.363368</td>\n",
              "      <td>-3460.363368</td>\n",
              "      <td>0.0</td>\n",
              "      <td>0.0</td>\n",
              "      <td>0.0</td>\n",
              "      <td>14334.737769</td>\n",
              "    </tr>\n",
              "    <tr>\n",
              "      <th>1</th>\n",
              "      <td>1968-02-01</td>\n",
              "      <td>17850.076787</td>\n",
              "      <td>13393.352625</td>\n",
              "      <td>16562.472655</td>\n",
              "      <td>17850.076787</td>\n",
              "      <td>17850.076787</td>\n",
              "      <td>-2944.120823</td>\n",
              "      <td>-2944.120823</td>\n",
              "      <td>-2944.120823</td>\n",
              "      <td>-2944.120823</td>\n",
              "      <td>-2944.120823</td>\n",
              "      <td>-2944.120823</td>\n",
              "      <td>0.0</td>\n",
              "      <td>0.0</td>\n",
              "      <td>0.0</td>\n",
              "      <td>14905.955964</td>\n",
              "    </tr>\n",
              "    <tr>\n",
              "      <th>2</th>\n",
              "      <td>1968-03-01</td>\n",
              "      <td>17901.505622</td>\n",
              "      <td>19261.479062</td>\n",
              "      <td>22431.836709</td>\n",
              "      <td>17901.505622</td>\n",
              "      <td>17901.505622</td>\n",
              "      <td>2940.644880</td>\n",
              "      <td>2940.644880</td>\n",
              "      <td>2940.644880</td>\n",
              "      <td>2940.644880</td>\n",
              "      <td>2940.644880</td>\n",
              "      <td>2940.644880</td>\n",
              "      <td>0.0</td>\n",
              "      <td>0.0</td>\n",
              "      <td>0.0</td>\n",
              "      <td>20842.150502</td>\n",
              "    </tr>\n",
              "    <tr>\n",
              "      <th>3</th>\n",
              "      <td>1968-04-01</td>\n",
              "      <td>17956.481273</td>\n",
              "      <td>21236.591654</td>\n",
              "      <td>24436.621655</td>\n",
              "      <td>17956.481273</td>\n",
              "      <td>17956.481273</td>\n",
              "      <td>4913.613942</td>\n",
              "      <td>4913.613942</td>\n",
              "      <td>4913.613942</td>\n",
              "      <td>4913.613942</td>\n",
              "      <td>4913.613942</td>\n",
              "      <td>4913.613942</td>\n",
              "      <td>0.0</td>\n",
              "      <td>0.0</td>\n",
              "      <td>0.0</td>\n",
              "      <td>22870.095215</td>\n",
              "    </tr>\n",
              "    <tr>\n",
              "      <th>4</th>\n",
              "      <td>1968-05-01</td>\n",
              "      <td>18009.683516</td>\n",
              "      <td>22608.878067</td>\n",
              "      <td>25656.977992</td>\n",
              "      <td>18009.683516</td>\n",
              "      <td>18009.683516</td>\n",
              "      <td>6166.527646</td>\n",
              "      <td>6166.527646</td>\n",
              "      <td>6166.527646</td>\n",
              "      <td>6166.527646</td>\n",
              "      <td>6166.527646</td>\n",
              "      <td>6166.527646</td>\n",
              "      <td>0.0</td>\n",
              "      <td>0.0</td>\n",
              "      <td>0.0</td>\n",
              "      <td>24176.211162</td>\n",
              "    </tr>\n",
              "    <tr>\n",
              "      <th>5</th>\n",
              "      <td>1968-06-01</td>\n",
              "      <td>18064.659167</td>\n",
              "      <td>19544.351309</td>\n",
              "      <td>22673.186803</td>\n",
              "      <td>18064.659167</td>\n",
              "      <td>18064.659167</td>\n",
              "      <td>2993.020023</td>\n",
              "      <td>2993.020023</td>\n",
              "      <td>2993.020023</td>\n",
              "      <td>2993.020023</td>\n",
              "      <td>2993.020023</td>\n",
              "      <td>2993.020023</td>\n",
              "      <td>0.0</td>\n",
              "      <td>0.0</td>\n",
              "      <td>0.0</td>\n",
              "      <td>21057.679190</td>\n",
              "    </tr>\n",
              "    <tr>\n",
              "      <th>6</th>\n",
              "      <td>1968-07-01</td>\n",
              "      <td>18117.861409</td>\n",
              "      <td>16047.000752</td>\n",
              "      <td>19141.859427</td>\n",
              "      <td>18117.861409</td>\n",
              "      <td>18117.861409</td>\n",
              "      <td>-532.371981</td>\n",
              "      <td>-532.371981</td>\n",
              "      <td>-532.371981</td>\n",
              "      <td>-532.371981</td>\n",
              "      <td>-532.371981</td>\n",
              "      <td>-532.371981</td>\n",
              "      <td>0.0</td>\n",
              "      <td>0.0</td>\n",
              "      <td>0.0</td>\n",
              "      <td>17585.489428</td>\n",
              "    </tr>\n",
              "    <tr>\n",
              "      <th>7</th>\n",
              "      <td>1968-08-01</td>\n",
              "      <td>18172.837060</td>\n",
              "      <td>13829.376759</td>\n",
              "      <td>16815.172935</td>\n",
              "      <td>18172.837060</td>\n",
              "      <td>18172.837060</td>\n",
              "      <td>-2883.575173</td>\n",
              "      <td>-2883.575173</td>\n",
              "      <td>-2883.575173</td>\n",
              "      <td>-2883.575173</td>\n",
              "      <td>-2883.575173</td>\n",
              "      <td>-2883.575173</td>\n",
              "      <td>0.0</td>\n",
              "      <td>0.0</td>\n",
              "      <td>0.0</td>\n",
              "      <td>15289.261887</td>\n",
              "    </tr>\n",
              "    <tr>\n",
              "      <th>8</th>\n",
              "      <td>1968-09-01</td>\n",
              "      <td>18227.812711</td>\n",
              "      <td>12071.908235</td>\n",
              "      <td>15407.869417</td>\n",
              "      <td>18227.812711</td>\n",
              "      <td>18227.812711</td>\n",
              "      <td>-4506.374429</td>\n",
              "      <td>-4506.374429</td>\n",
              "      <td>-4506.374429</td>\n",
              "      <td>-4506.374429</td>\n",
              "      <td>-4506.374429</td>\n",
              "      <td>-4506.374429</td>\n",
              "      <td>0.0</td>\n",
              "      <td>0.0</td>\n",
              "      <td>0.0</td>\n",
              "      <td>13721.438281</td>\n",
              "    </tr>\n",
              "    <tr>\n",
              "      <th>9</th>\n",
              "      <td>1968-10-01</td>\n",
              "      <td>18281.014954</td>\n",
              "      <td>16560.545078</td>\n",
              "      <td>19671.225934</td>\n",
              "      <td>18281.014954</td>\n",
              "      <td>18281.014954</td>\n",
              "      <td>-147.104077</td>\n",
              "      <td>-147.104077</td>\n",
              "      <td>-147.104077</td>\n",
              "      <td>-147.104077</td>\n",
              "      <td>-147.104077</td>\n",
              "      <td>-147.104077</td>\n",
              "      <td>0.0</td>\n",
              "      <td>0.0</td>\n",
              "      <td>0.0</td>\n",
              "      <td>18133.910877</td>\n",
              "    </tr>\n",
              "    <tr>\n",
              "      <th>10</th>\n",
              "      <td>1968-11-01</td>\n",
              "      <td>18335.990605</td>\n",
              "      <td>15799.135837</td>\n",
              "      <td>19004.676442</td>\n",
              "      <td>18335.990605</td>\n",
              "      <td>18335.990605</td>\n",
              "      <td>-904.230785</td>\n",
              "      <td>-904.230785</td>\n",
              "      <td>-904.230785</td>\n",
              "      <td>-904.230785</td>\n",
              "      <td>-904.230785</td>\n",
              "      <td>-904.230785</td>\n",
              "      <td>0.0</td>\n",
              "      <td>0.0</td>\n",
              "      <td>0.0</td>\n",
              "      <td>17431.759820</td>\n",
              "    </tr>\n",
              "    <tr>\n",
              "      <th>11</th>\n",
              "      <td>1968-12-01</td>\n",
              "      <td>18389.192847</td>\n",
              "      <td>14126.205345</td>\n",
              "      <td>17327.241221</td>\n",
              "      <td>18389.192847</td>\n",
              "      <td>18389.192847</td>\n",
              "      <td>-2733.905566</td>\n",
              "      <td>-2733.905566</td>\n",
              "      <td>-2733.905566</td>\n",
              "      <td>-2733.905566</td>\n",
              "      <td>-2733.905566</td>\n",
              "      <td>-2733.905566</td>\n",
              "      <td>0.0</td>\n",
              "      <td>0.0</td>\n",
              "      <td>0.0</td>\n",
              "      <td>15655.287282</td>\n",
              "    </tr>\n",
              "  </tbody>\n",
              "</table>\n",
              "</div>\n",
              "      <button class=\"colab-df-convert\" onclick=\"convertToInteractive('df-3a810fb4-a48f-43c6-9c42-e5d2683943a1')\"\n",
              "              title=\"Convert this dataframe to an interactive table.\"\n",
              "              style=\"display:none;\">\n",
              "        \n",
              "  <svg xmlns=\"http://www.w3.org/2000/svg\" height=\"24px\"viewBox=\"0 0 24 24\"\n",
              "       width=\"24px\">\n",
              "    <path d=\"M0 0h24v24H0V0z\" fill=\"none\"/>\n",
              "    <path d=\"M18.56 5.44l.94 2.06.94-2.06 2.06-.94-2.06-.94-.94-2.06-.94 2.06-2.06.94zm-11 1L8.5 8.5l.94-2.06 2.06-.94-2.06-.94L8.5 2.5l-.94 2.06-2.06.94zm10 10l.94 2.06.94-2.06 2.06-.94-2.06-.94-.94-2.06-.94 2.06-2.06.94z\"/><path d=\"M17.41 7.96l-1.37-1.37c-.4-.4-.92-.59-1.43-.59-.52 0-1.04.2-1.43.59L10.3 9.45l-7.72 7.72c-.78.78-.78 2.05 0 2.83L4 21.41c.39.39.9.59 1.41.59.51 0 1.02-.2 1.41-.59l7.78-7.78 2.81-2.81c.8-.78.8-2.07 0-2.86zM5.41 20L4 18.59l7.72-7.72 1.47 1.35L5.41 20z\"/>\n",
              "  </svg>\n",
              "      </button>\n",
              "      \n",
              "  <style>\n",
              "    .colab-df-container {\n",
              "      display:flex;\n",
              "      flex-wrap:wrap;\n",
              "      gap: 12px;\n",
              "    }\n",
              "\n",
              "    .colab-df-convert {\n",
              "      background-color: #E8F0FE;\n",
              "      border: none;\n",
              "      border-radius: 50%;\n",
              "      cursor: pointer;\n",
              "      display: none;\n",
              "      fill: #1967D2;\n",
              "      height: 32px;\n",
              "      padding: 0 0 0 0;\n",
              "      width: 32px;\n",
              "    }\n",
              "\n",
              "    .colab-df-convert:hover {\n",
              "      background-color: #E2EBFA;\n",
              "      box-shadow: 0px 1px 2px rgba(60, 64, 67, 0.3), 0px 1px 3px 1px rgba(60, 64, 67, 0.15);\n",
              "      fill: #174EA6;\n",
              "    }\n",
              "\n",
              "    [theme=dark] .colab-df-convert {\n",
              "      background-color: #3B4455;\n",
              "      fill: #D2E3FC;\n",
              "    }\n",
              "\n",
              "    [theme=dark] .colab-df-convert:hover {\n",
              "      background-color: #434B5C;\n",
              "      box-shadow: 0px 1px 3px 1px rgba(0, 0, 0, 0.15);\n",
              "      filter: drop-shadow(0px 1px 2px rgba(0, 0, 0, 0.3));\n",
              "      fill: #FFFFFF;\n",
              "    }\n",
              "  </style>\n",
              "\n",
              "      <script>\n",
              "        const buttonEl =\n",
              "          document.querySelector('#df-3a810fb4-a48f-43c6-9c42-e5d2683943a1 button.colab-df-convert');\n",
              "        buttonEl.style.display =\n",
              "          google.colab.kernel.accessAllowed ? 'block' : 'none';\n",
              "\n",
              "        async function convertToInteractive(key) {\n",
              "          const element = document.querySelector('#df-3a810fb4-a48f-43c6-9c42-e5d2683943a1');\n",
              "          const dataTable =\n",
              "            await google.colab.kernel.invokeFunction('convertToInteractive',\n",
              "                                                     [key], {});\n",
              "          if (!dataTable) return;\n",
              "\n",
              "          const docLinkHtml = 'Like what you see? Visit the ' +\n",
              "            '<a target=\"_blank\" href=https://colab.research.google.com/notebooks/data_table.ipynb>data table notebook</a>'\n",
              "            + ' to learn more about interactive tables.';\n",
              "          element.innerHTML = '';\n",
              "          dataTable['output_type'] = 'display_data';\n",
              "          await google.colab.output.renderOutput(dataTable, element);\n",
              "          const docLink = document.createElement('div');\n",
              "          docLink.innerHTML = docLinkHtml;\n",
              "          element.appendChild(docLink);\n",
              "        }\n",
              "      </script>\n",
              "    </div>\n",
              "  </div>\n",
              "  "
            ]
          },
          "metadata": {},
          "execution_count": 34
        }
      ]
    },
    {
      "cell_type": "code",
      "source": [
        "forecast[['ds','yhat','yhat_lower','yhat_upper']]"
      ],
      "metadata": {
        "colab": {
          "base_uri": "https://localhost:8080/",
          "height": 426
        },
        "id": "SDmdc3SN2VV7",
        "outputId": "82d9bff2-c72d-48d4-a1e0-9ca5745021bf"
      },
      "execution_count": 35,
      "outputs": [
        {
          "output_type": "execute_result",
          "data": {
            "text/plain": [
              "           ds          yhat    yhat_lower    yhat_upper\n",
              "0  1968-01-01  14334.737769  12722.316435  15778.286368\n",
              "1  1968-02-01  14905.955964  13393.352625  16562.472655\n",
              "2  1968-03-01  20842.150502  19261.479062  22431.836709\n",
              "3  1968-04-01  22870.095215  21236.591654  24436.621655\n",
              "4  1968-05-01  24176.211162  22608.878067  25656.977992\n",
              "5  1968-06-01  21057.679190  19544.351309  22673.186803\n",
              "6  1968-07-01  17585.489428  16047.000752  19141.859427\n",
              "7  1968-08-01  15289.261887  13829.376759  16815.172935\n",
              "8  1968-09-01  13721.438281  12071.908235  15407.869417\n",
              "9  1968-10-01  18133.910877  16560.545078  19671.225934\n",
              "10 1968-11-01  17431.759820  15799.135837  19004.676442\n",
              "11 1968-12-01  15655.287282  14126.205345  17327.241221"
            ],
            "text/html": [
              "\n",
              "  <div id=\"df-cd74777a-1eb6-47a9-9504-63b729330d03\">\n",
              "    <div class=\"colab-df-container\">\n",
              "      <div>\n",
              "<style scoped>\n",
              "    .dataframe tbody tr th:only-of-type {\n",
              "        vertical-align: middle;\n",
              "    }\n",
              "\n",
              "    .dataframe tbody tr th {\n",
              "        vertical-align: top;\n",
              "    }\n",
              "\n",
              "    .dataframe thead th {\n",
              "        text-align: right;\n",
              "    }\n",
              "</style>\n",
              "<table border=\"1\" class=\"dataframe\">\n",
              "  <thead>\n",
              "    <tr style=\"text-align: right;\">\n",
              "      <th></th>\n",
              "      <th>ds</th>\n",
              "      <th>yhat</th>\n",
              "      <th>yhat_lower</th>\n",
              "      <th>yhat_upper</th>\n",
              "    </tr>\n",
              "  </thead>\n",
              "  <tbody>\n",
              "    <tr>\n",
              "      <th>0</th>\n",
              "      <td>1968-01-01</td>\n",
              "      <td>14334.737769</td>\n",
              "      <td>12722.316435</td>\n",
              "      <td>15778.286368</td>\n",
              "    </tr>\n",
              "    <tr>\n",
              "      <th>1</th>\n",
              "      <td>1968-02-01</td>\n",
              "      <td>14905.955964</td>\n",
              "      <td>13393.352625</td>\n",
              "      <td>16562.472655</td>\n",
              "    </tr>\n",
              "    <tr>\n",
              "      <th>2</th>\n",
              "      <td>1968-03-01</td>\n",
              "      <td>20842.150502</td>\n",
              "      <td>19261.479062</td>\n",
              "      <td>22431.836709</td>\n",
              "    </tr>\n",
              "    <tr>\n",
              "      <th>3</th>\n",
              "      <td>1968-04-01</td>\n",
              "      <td>22870.095215</td>\n",
              "      <td>21236.591654</td>\n",
              "      <td>24436.621655</td>\n",
              "    </tr>\n",
              "    <tr>\n",
              "      <th>4</th>\n",
              "      <td>1968-05-01</td>\n",
              "      <td>24176.211162</td>\n",
              "      <td>22608.878067</td>\n",
              "      <td>25656.977992</td>\n",
              "    </tr>\n",
              "    <tr>\n",
              "      <th>5</th>\n",
              "      <td>1968-06-01</td>\n",
              "      <td>21057.679190</td>\n",
              "      <td>19544.351309</td>\n",
              "      <td>22673.186803</td>\n",
              "    </tr>\n",
              "    <tr>\n",
              "      <th>6</th>\n",
              "      <td>1968-07-01</td>\n",
              "      <td>17585.489428</td>\n",
              "      <td>16047.000752</td>\n",
              "      <td>19141.859427</td>\n",
              "    </tr>\n",
              "    <tr>\n",
              "      <th>7</th>\n",
              "      <td>1968-08-01</td>\n",
              "      <td>15289.261887</td>\n",
              "      <td>13829.376759</td>\n",
              "      <td>16815.172935</td>\n",
              "    </tr>\n",
              "    <tr>\n",
              "      <th>8</th>\n",
              "      <td>1968-09-01</td>\n",
              "      <td>13721.438281</td>\n",
              "      <td>12071.908235</td>\n",
              "      <td>15407.869417</td>\n",
              "    </tr>\n",
              "    <tr>\n",
              "      <th>9</th>\n",
              "      <td>1968-10-01</td>\n",
              "      <td>18133.910877</td>\n",
              "      <td>16560.545078</td>\n",
              "      <td>19671.225934</td>\n",
              "    </tr>\n",
              "    <tr>\n",
              "      <th>10</th>\n",
              "      <td>1968-11-01</td>\n",
              "      <td>17431.759820</td>\n",
              "      <td>15799.135837</td>\n",
              "      <td>19004.676442</td>\n",
              "    </tr>\n",
              "    <tr>\n",
              "      <th>11</th>\n",
              "      <td>1968-12-01</td>\n",
              "      <td>15655.287282</td>\n",
              "      <td>14126.205345</td>\n",
              "      <td>17327.241221</td>\n",
              "    </tr>\n",
              "  </tbody>\n",
              "</table>\n",
              "</div>\n",
              "      <button class=\"colab-df-convert\" onclick=\"convertToInteractive('df-cd74777a-1eb6-47a9-9504-63b729330d03')\"\n",
              "              title=\"Convert this dataframe to an interactive table.\"\n",
              "              style=\"display:none;\">\n",
              "        \n",
              "  <svg xmlns=\"http://www.w3.org/2000/svg\" height=\"24px\"viewBox=\"0 0 24 24\"\n",
              "       width=\"24px\">\n",
              "    <path d=\"M0 0h24v24H0V0z\" fill=\"none\"/>\n",
              "    <path d=\"M18.56 5.44l.94 2.06.94-2.06 2.06-.94-2.06-.94-.94-2.06-.94 2.06-2.06.94zm-11 1L8.5 8.5l.94-2.06 2.06-.94-2.06-.94L8.5 2.5l-.94 2.06-2.06.94zm10 10l.94 2.06.94-2.06 2.06-.94-2.06-.94-.94-2.06-.94 2.06-2.06.94z\"/><path d=\"M17.41 7.96l-1.37-1.37c-.4-.4-.92-.59-1.43-.59-.52 0-1.04.2-1.43.59L10.3 9.45l-7.72 7.72c-.78.78-.78 2.05 0 2.83L4 21.41c.39.39.9.59 1.41.59.51 0 1.02-.2 1.41-.59l7.78-7.78 2.81-2.81c.8-.78.8-2.07 0-2.86zM5.41 20L4 18.59l7.72-7.72 1.47 1.35L5.41 20z\"/>\n",
              "  </svg>\n",
              "      </button>\n",
              "      \n",
              "  <style>\n",
              "    .colab-df-container {\n",
              "      display:flex;\n",
              "      flex-wrap:wrap;\n",
              "      gap: 12px;\n",
              "    }\n",
              "\n",
              "    .colab-df-convert {\n",
              "      background-color: #E8F0FE;\n",
              "      border: none;\n",
              "      border-radius: 50%;\n",
              "      cursor: pointer;\n",
              "      display: none;\n",
              "      fill: #1967D2;\n",
              "      height: 32px;\n",
              "      padding: 0 0 0 0;\n",
              "      width: 32px;\n",
              "    }\n",
              "\n",
              "    .colab-df-convert:hover {\n",
              "      background-color: #E2EBFA;\n",
              "      box-shadow: 0px 1px 2px rgba(60, 64, 67, 0.3), 0px 1px 3px 1px rgba(60, 64, 67, 0.15);\n",
              "      fill: #174EA6;\n",
              "    }\n",
              "\n",
              "    [theme=dark] .colab-df-convert {\n",
              "      background-color: #3B4455;\n",
              "      fill: #D2E3FC;\n",
              "    }\n",
              "\n",
              "    [theme=dark] .colab-df-convert:hover {\n",
              "      background-color: #434B5C;\n",
              "      box-shadow: 0px 1px 3px 1px rgba(0, 0, 0, 0.15);\n",
              "      filter: drop-shadow(0px 1px 2px rgba(0, 0, 0, 0.3));\n",
              "      fill: #FFFFFF;\n",
              "    }\n",
              "  </style>\n",
              "\n",
              "      <script>\n",
              "        const buttonEl =\n",
              "          document.querySelector('#df-cd74777a-1eb6-47a9-9504-63b729330d03 button.colab-df-convert');\n",
              "        buttonEl.style.display =\n",
              "          google.colab.kernel.accessAllowed ? 'block' : 'none';\n",
              "\n",
              "        async function convertToInteractive(key) {\n",
              "          const element = document.querySelector('#df-cd74777a-1eb6-47a9-9504-63b729330d03');\n",
              "          const dataTable =\n",
              "            await google.colab.kernel.invokeFunction('convertToInteractive',\n",
              "                                                     [key], {});\n",
              "          if (!dataTable) return;\n",
              "\n",
              "          const docLinkHtml = 'Like what you see? Visit the ' +\n",
              "            '<a target=\"_blank\" href=https://colab.research.google.com/notebooks/data_table.ipynb>data table notebook</a>'\n",
              "            + ' to learn more about interactive tables.';\n",
              "          element.innerHTML = '';\n",
              "          dataTable['output_type'] = 'display_data';\n",
              "          await google.colab.output.renderOutput(dataTable, element);\n",
              "          const docLink = document.createElement('div');\n",
              "          docLink.innerHTML = docLinkHtml;\n",
              "          element.appendChild(docLink);\n",
              "        }\n",
              "      </script>\n",
              "    </div>\n",
              "  </div>\n",
              "  "
            ]
          },
          "metadata": {},
          "execution_count": 35
        }
      ]
    },
    {
      "cell_type": "code",
      "source": [
        "model.plot(forecast)\n",
        "pyplot.show()"
      ],
      "metadata": {
        "colab": {
          "base_uri": "https://localhost:8080/",
          "height": 441
        },
        "id": "nsNeEnLW3_dE",
        "outputId": "e1810665-fc3b-40b7-b4d2-46a652ad2c54"
      },
      "execution_count": 36,
      "outputs": [
        {
          "output_type": "display_data",
          "data": {
            "text/plain": [
              "<Figure size 720x432 with 1 Axes>"
            ],
            "image/png": "[encoded data removed]"
          },
          "metadata": {}
        }
      ]
    },
    {
      "cell_type": "code",
      "source": [
        ""
      ],
      "metadata": {
        "id": "nF8ZSkzZ4NnE"
      },
      "execution_count": null,
      "outputs": []
    },
    {
      "cell_type": "code",
      "source": [
        "#'69 doesnt exist in dataset\n",
        "future = list()\n",
        "\n",
        "for i in range(1, 13):\n",
        "  date = '1969-%02d' % i \n",
        "  future.append([date])\n",
        "\n",
        "\n",
        "future = pd.DataFrame(future)\n",
        "future.columns = ['ds']\n",
        "future['ds'] = pd.to_datetime(future['ds'])\n",
        "forecast = model.predict(future)\n",
        "\n",
        "print(forecast[['ds','yhat','yhat_lower','yhat_upper']])\n",
        "\n",
        "model.plot(forecast)\n",
        "pyplot.show()\n"
      ],
      "metadata": {
        "colab": {
          "base_uri": "https://localhost:8080/",
          "height": 673
        },
        "id": "z4Lr22Bm4fLx",
        "outputId": "1151a34d-0bc7-4d5d-ef32-3b7a9df51cf0"
      },
      "execution_count": 39,
      "outputs": [
        {
          "output_type": "stream",
          "name": "stdout",
          "text": [
            "           ds          yhat    yhat_lower    yhat_upper\n",
            "0  1969-01-01  15375.960093  13667.960300  16946.789929\n",
            "1  1969-02-01  16142.271673  14503.233936  17708.219244\n",
            "2  1969-03-01  21351.832640  19770.330007  22870.175865\n",
            "3  1969-04-01  23477.889811  21849.511664  25009.207089\n",
            "4  1969-05-01  24988.440907  23440.566676  26564.860861\n",
            "5  1969-06-01  22249.041153  20658.151399  23906.629737\n",
            "6  1969-07-01  17902.329924  16304.063849  19456.471359\n",
            "7  1969-08-01  15730.201800  14062.720242  17284.397541\n",
            "8  1969-09-01  14235.957070  12585.561826  15831.852485\n",
            "9  1969-10-01  18671.780127  17064.587907  20198.909876\n",
            "10 1969-11-01  18573.505386  16822.991880  20163.001835\n",
            "11 1969-12-01  16386.033106  14824.546155  18021.709159\n"
          ]
        },
        {
          "output_type": "display_data",
          "data": {
            "text/plain": [
              "<Figure size 720x432 with 1 Axes>"
            ],
            "image/png": "[encoded data removed]"
          },
          "metadata": {}
        }
      ]
    },
    {
      "cell_type": "code",
      "source": [
        "# extract the last 12 months from dataset\n",
        "# train model\n",
        "# compare predictions and actual values"
      ],
      "metadata": {
        "id": "_DltPYVk5bwC"
      },
      "execution_count": null,
      "outputs": []
    },
    {
      "cell_type": "code",
      "source": [
        "import pandas as pd\n",
        "from fbprophet import Prophet\n",
        "from sklearn.metrics import mean_absolute_error\n",
        "from matplotlib import pyplot\n",
        "\n",
        "path = 'https://raw.githubusercontent.com/jbrownlee/Datasets/master/monthly-car-sales.csv'\n",
        "df = pd.read_csv(path, header=0)\n",
        "\n",
        "df.columns = ['ds', 'y']\n",
        "df['ds']= pd.to_datetime(df['ds'])"
      ],
      "metadata": {
        "id": "znSj-A3k55pj"
      },
      "execution_count": 41,
      "outputs": []
    },
    {
      "cell_type": "code",
      "source": [
        "train = df.drop(df.index[-12:])\n",
        "print(train.tail())"
      ],
      "metadata": {
        "colab": {
          "base_uri": "https://localhost:8080/"
        },
        "id": "Y9oDvG5Y6CYB",
        "outputId": "ab0eb2aa-8738-4eef-d359-274820f47243"
      },
      "execution_count": 42,
      "outputs": [
        {
          "output_type": "stream",
          "name": "stdout",
          "text": [
            "           ds      y\n",
            "91 1967-08-01  13434\n",
            "92 1967-09-01  13598\n",
            "93 1967-10-01  17187\n",
            "94 1967-11-01  16119\n",
            "95 1967-12-01  13713\n"
          ]
        }
      ]
    },
    {
      "cell_type": "code",
      "source": [
        "model = Prophet()\n",
        "model.fit(train)"
      ],
      "metadata": {
        "colab": {
          "base_uri": "https://localhost:8080/"
        },
        "id": "e-qk3rQ56YIB",
        "outputId": "ae6af1cd-2355-40d8-9c58-743861bc1fda"
      },
      "execution_count": 43,
      "outputs": [
        {
          "output_type": "stream",
          "name": "stderr",
          "text": [
            "INFO:fbprophet:Disabling weekly seasonality. Run prophet with weekly_seasonality=True to override this.\n",
            "INFO:fbprophet:Disabling daily seasonality. Run prophet with daily_seasonality=True to override this.\n"
          ]
        },
        {
          "output_type": "execute_result",
          "data": {
            "text/plain": [
              "<fbprophet.forecaster.Prophet at 0x7f566c558e50>"
            ]
          },
          "metadata": {},
          "execution_count": 43
        }
      ]
    },
    {
      "cell_type": "code",
      "source": [
        "future = list()\n",
        "for i in range(1, 13):\n",
        "    date = '1968-%02d' % i\n",
        "    future.append([date])\n",
        "    \n",
        "future = pd.DataFrame(future)\n",
        "future.columns = ['ds']\n",
        "future['ds'] = pd.to_datetime(future['ds'])\n",
        "\n",
        "forecast = model.predict(future)"
      ],
      "metadata": {
        "id": "0R4-wHX96s6a"
      },
      "execution_count": 44,
      "outputs": []
    },
    {
      "cell_type": "code",
      "source": [
        "y_true = df['y'][-12:].values\n",
        "y_pred = forecast['yhat'].values"
      ],
      "metadata": {
        "id": "Xb91W98n6yIC"
      },
      "execution_count": 45,
      "outputs": []
    },
    {
      "cell_type": "code",
      "source": [
        "mae = mean_absolute_error(y_true, y_pred)\n",
        "print('MAE: %.3f' % mae)"
      ],
      "metadata": {
        "colab": {
          "base_uri": "https://localhost:8080/"
        },
        "id": "2DDXJ46U63da",
        "outputId": "aecd9de4-c881-484e-8542-6b279f0c3f8d"
      },
      "execution_count": 48,
      "outputs": [
        {
          "output_type": "stream",
          "name": "stdout",
          "text": [
            "MAE: 1336.814\n"
          ]
        }
      ]
    },
    {
      "cell_type": "code",
      "source": [
        "pyplot.plot(y_true, label='Actual')\n",
        "pyplot.plot(y_pred, label='Predicted')\n",
        "pyplot.legend()\n",
        "pyplot.show()"
      ],
      "metadata": {
        "colab": {
          "base_uri": "https://localhost:8080/",
          "height": 265
        },
        "id": "HOQpcHRV66dj",
        "outputId": "e805fc71-eaa1-4aec-f9b2-f9c23cd63e8c"
      },
      "execution_count": 49,
      "outputs": [
        {
          "output_type": "display_data",
          "data": {
            "text/plain": [
              "<Figure size 432x288 with 1 Axes>"
            ],
            "image/png": "[encoded data removed]"
          },
          "metadata": {
            "needs_background": "light"
          }
        }
      ]
    }
  ]
}